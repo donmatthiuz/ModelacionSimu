{
 "cells": [
  {
   "cell_type": "markdown",
   "id": "785d4c75",
   "metadata": {},
   "source": [
    "# Laboratorio 2"
   ]
  },
  {
   "cell_type": "markdown",
   "id": "b4a08860",
   "metadata": {},
   "source": [
    "## Ejercicio 1"
   ]
  },
  {
   "cell_type": "markdown",
   "id": "1801b7dd",
   "metadata": {},
   "source": [
    "Tres refinerias con capacidades diarias de 6, 5 y 8 millones de galones, respectivamente, abastecen a tres areas de distribucion con demandas diarias de 4, 8 y 7 millones de galones, respectivamente. La gasolina se transporta a las tres areas de distribucion a traves de una red de oleoductos. El costo de transporte es de $0.10 por 1000 galones por kilometro de oleoducto. En la tabla 1 se presenta la distancia en kilometros entre las refinerias y las areas de distribucion. La refineria 1 no esta conectada al area de distribucion 3."
   ]
  },
  {
   "attachments": {
    "image.png": {
     "image/png": "[encoded data removed]"
    }
   },
   "cell_type": "markdown",
   "id": "85e68829",
   "metadata": {},
   "source": [
    "![image.png](attachment:image.png)"
   ]
  },
  {
   "cell_type": "markdown",
   "id": "ae8cd543",
   "metadata": {},
   "source": [
    "Esto quiere decir que nuestros productores producen un array de produccion llamado S, y nuestra demanda tiene un array de demanda de D .\n",
    "\n",
    "Pero aqui hay una cosa, es que la tabla es por distancias no por galones entonces nuestra formula de final de sumatorias tiene que contemplar eso.\n"
   ]
  },
  {
   "cell_type": "markdown",
   "id": "86965a28",
   "metadata": {},
   "source": [
    "Una cosa es como que la 1 no esta conectada a la 3 ponemos como costo enorme asi nunca tomara esa ruta. \n",
    "\n",
    "Luego para determinar el costo necesitamos hacer la conversion\n",
    "\n",
    "$$costogalonkm =  \\frac{0.10}{1000}$$\n",
    "\n",
    "Entonces el costo seria\n",
    "\n",
    "$$costo_{ij} =  distancia_{ij} * costogalonkm$$"
   ]
  },
  {
   "cell_type": "code",
   "execution_count": null,
   "id": "a35c2b11",
   "metadata": {},
   "outputs": [
    {
     "data": {
      "text/latex": [
       "$ 0.012 x_{1,1} + 0.018000000000000002 x_{1,2} + 1.0000000000000001 \\times 10^{23} x_{1,3} + 0.030000000000000002 x_{2,1} + 0.01 x_{2,2} + 0.008 x_{2,3} + 0.02 x_{3,1} + 0.025 x_{3,2} + 0.012 x_{3,3} $"
      ],
      "text/plain": [
       "0.012 x[1,1] + 0.018000000000000002 x[1,2] + 1.0000000000000001e23 x[1,3] + 0.030000000000000002 x[2,1] + 0.01 x[2,2] + 0.008 x[2,3] + 0.02 x[3,1] + 0.025 x[3,2] + 0.012 x[3,3]"
      ]
     },
     "metadata": {},
     "output_type": "display_data"
    }
   ],
   "source": [
    "using JuMP\n",
    "using Ipopt \n",
    "using HiGHS \n",
    "using Optimization\n",
    "\n",
    "model = Model()\n",
    "\n",
    "supply = [5000000, 6000000, 8000000]\n",
    "demand = [4000000,8000000,7000000]\n",
    "\n",
    "distancias = [ 120   180  1e27; \n",
    "               300 100  80; \n",
    "          200  250  120; ]\n",
    "\n",
    "costos = distancias .* 0.0001\n",
    "\n",
    "\n",
    "# variables \n",
    "@variable(model, x[1:3, 1:3] >= 0)\n",
    "\n",
    "\n",
    "# constraints \n",
    "@constraint(model, sum(x[1,j] for j in 1:3) == supply[1])\n",
    "@constraint(model, sum(x[2,j] for j in 1:3) == supply[2])\n",
    "@constraint(model, sum(x[3,j] for j in 1:3) == supply[3])\n",
    "\n",
    "@constraint(model, sum(x[i,1] for i in 1:3) == demand[1])\n",
    "@constraint(model, sum(x[i,2] for i in 1:3) == demand[2])\n",
    "@constraint(model, sum(x[i,3] for i in 1:3) == demand[3])\n",
    "\n",
    "\n",
    "# @objective(model, Min, sum((distancias[i,j]*0.10) * (x[i,j]/1000) for i in 1:3, j in 1:3))\n",
    "\n",
    "@objective(model, Min, sum(costos[i,j] * x[i,j] for i in 1:3, j in 1:3))"
   ]
  },
  {
   "cell_type": "code",
   "execution_count": null,
   "id": "826849f0",
   "metadata": {},
   "outputs": [],
   "source": [
    "set_optimizer(model, HiGHS.Optimizer)"
   ]
  },
  {
   "cell_type": "code",
   "execution_count": null,
   "id": "28f9ba89",
   "metadata": {},
   "outputs": [
    {
     "data": {
      "text/plain": [
       "A JuMP Model\n",
       "├ solver: HiGHS\n",
       "├ objective_sense: MIN_SENSE\n",
       "│ └ objective_function_type: AffExpr\n",
       "├ num_variables: 9\n",
       "├ num_constraints: 15\n",
       "│ ├ AffExpr in MOI.EqualTo{Float64}: 6\n",
       "│ └ VariableRef in MOI.GreaterThan{Float64}: 9\n",
       "└ Names registered in the model\n",
       "  └ :x"
      ]
     },
     "metadata": {},
     "output_type": "display_data"
    }
   ],
   "source": [
    "model"
   ]
  },
  {
   "cell_type": "code",
   "execution_count": null,
   "id": "1cc753c8",
   "metadata": {},
   "outputs": [
    {
     "name": "stdout",
     "output_type": "stream",
     "text": [
      "Running HiGHS 1.11.0 (git hash: 364c83a51e): Copyright (c) 2025 HiGHS under MIT licence terms\n",
      "1 |cost| values greater than or equal to        1e+20 are treated as Infinity\n",
      "LP   has 6 rows; 9 cols; 18 nonzeros\n",
      "Coefficient ranges:\n",
      "  Matrix [1e+00, 1e+00]\n",
      "  Cost   [8e-03, 3e-02]\n",
      "  Bound  [0e+00, 0e+00]\n",
      "  RHS    [4e+06, 8e+06]\n",
      "Presolving model\n",
      "6 rows, 8 cols, 16 nonzeros  0s\n",
      "Dependent equations search running on 4 equations with time limit of 1000.00s\n",
      "Dependent equations search removed 1 rows and 3 nonzeros in 0.00s (limit = 1000.00s)\n",
      "3 rows, 6 cols, 9 nonzeros  0s\n",
      "3 rows, 6 cols, 9 nonzeros  0s\n",
      "Presolve : Reductions: rows 3(-3); columns 6(-3); elements 9(-9)\n",
      "Solving the presolved LP\n",
      "Using EKK dual simplex solver - serial\n",
      "  Iteration        Objective     Infeasibilities num(sum)\n",
      "          0     0.0000000000e+00 Ph1: 0(0) 0s\n",
      "          3     2.3500000000e+05 Pr: 0(0) 0s\n",
      "Solving the original LP from the solution after postsolve\n",
      "Model status        : Optimal\n",
      "Simplex   iterations: 3\n",
      "Objective value     :  2.3500000000e+05\n",
      "P-D objective error :  0.0000000000e+00\n",
      "HiGHS run time      :          0.01\n"
     ]
    }
   ],
   "source": [
    "optimize!(model)"
   ]
  },
  {
   "cell_type": "code",
   "execution_count": null,
   "id": "82ff21ed",
   "metadata": {},
   "outputs": [
    {
     "name": "stdout",
     "output_type": "stream",
     "text": [
      "x = [4.0e6 1.0e6 0.0; 0.0 6.0e6 0.0; 0.0 1.0e6 7.0e6]\n",
      "objective value = 235000.0"
     ]
    }
   ],
   "source": [
    "# print solution\n",
    "print(\"x = \", value.(x), \"\\n\")\n",
    "\n",
    "\n",
    "print(\"objective value = \", objective_value(model))"
   ]
  },
  {
   "cell_type": "markdown",
   "id": "750daf06",
   "metadata": {},
   "source": [
    "\n",
    "La distribucion seria la siguiente\n",
    "\n",
    "| Refinería → Area ↓ | Galones al Area 1 | Galones al Area 2 | Galones al Area 3 |\n",
    "|----------------------------|----------------|----------------|----------------|\n",
    "| Refinería 1               | 4,000,000      | 1,000,000      | 0              |\n",
    "| Refinería 2               | 0              | 6,000,000      | 0              |\n",
    "| Refinería 3               | 0              | 1,000,000      | 7,000,000      |\n"
   ]
  },
  {
   "cell_type": "markdown",
   "id": "68767573",
   "metadata": {},
   "source": [
    "## Ejercicio 8"
   ]
  },
  {
   "cell_type": "markdown",
   "id": "66a7346e",
   "metadata": {},
   "source": [
    "Implementar en Python un algoritmo para hallar los ceros de una funcion diferenciable F : $R^n\n",
    " → R^n$ usando el metodo de Newton multidimensiona"
   ]
  },
  {
   "attachments": {
    "image.png": {
     "image/png": "[encoded data removed]"
    }
   },
   "cell_type": "markdown",
   "id": "95e1d598",
   "metadata": {},
   "source": [
    "![image.png](attachment:image.png)"
   ]
  },
  {
   "cell_type": "markdown",
   "id": "4d944fe3",
   "metadata": {},
   "source": [
    "Como parámetros, su algoritmo debe recibir la función `f`, la derivada `Df`,  \n",
    "el punto inicial de búsqueda `x₀ ∈ ℝⁿ`, así como los criterios de paro `maxIter` y `tol > 0`.  \n",
    "\n",
    "Para la salida, su función debe devolver la lista de aproximaciones realizadas  \n",
    "y el valor del punto `x* ∈ ℝⁿ` donde está el cero.\n"
   ]
  },
  {
   "cell_type": "markdown",
   "id": "8d8c69ee",
   "metadata": {},
   "source": [
    "Con su implementacion, resolver el siguiente sistema de ecuaciones con 7 cifras decimales de precision"
   ]
  },
  {
   "attachments": {
    "image.png": {
     "image/png": "[encoded data removed]"
    }
   },
   "cell_type": "markdown",
   "id": "aebd5a3d",
   "metadata": {},
   "source": [
    "![image.png](attachment:image.png)"
   ]
  },
  {
   "cell_type": "markdown",
   "id": "1ab3fa51",
   "metadata": {},
   "source": [
    "Definimos las importaciones"
   ]
  },
  {
   "cell_type": "code",
   "execution_count": 4,
   "id": "7b4added",
   "metadata": {},
   "outputs": [],
   "source": [
    "import autograd as ad\n",
    "import numpy as np\n",
    "from autograd import grad, jacobian\n",
    "import autograd.numpy as anp"
   ]
  },
  {
   "cell_type": "markdown",
   "id": "af2beea6",
   "metadata": {},
   "source": [
    "Hacemos la implementacion de Newtion multivariable"
   ]
  },
  {
   "cell_type": "code",
   "execution_count": 43,
   "id": "8d0a84cf",
   "metadata": {},
   "outputs": [],
   "source": [
    "\n",
    "class NewtonRaphson ():  \n",
    "  def __init__(self, F, J, x0, tol=1e-6, maxIter=20 ):\n",
    "    self.F = F\n",
    "    self.x0 = x0\n",
    "    self.tol = tol\n",
    "    self.iteraciones = maxIter\n",
    "    self.J =J\n",
    "  \n",
    "\n",
    "  def evaluate(self):\n",
    "    error = 100\n",
    "    aproximaciones = []\n",
    "    x = anp.array(self.x0)\n",
    "    i = 0\n",
    "    while np.any(abs(error) > self.tol) and i < self.iteraciones:\n",
    "      aproximaciones.append(x.copy())\n",
    "\n",
    "      Fx = self.F(x)\n",
    "      Jx = self.J(x)\n",
    "      delta = np.linalg.solve(Jx, -Fx)\n",
    "      x_new = x + delta\n",
    "      if np.linalg.norm(delta, ord=2) < self.tol:\n",
    "        print(f\"Convergió en {i+1} iteraciones\")\n",
    "        return np.array(x_new), aproximaciones\n",
    "      error = x_new - x\n",
    "      print(\"Iteracion: \", i)\n",
    "      print(\"Error: \", error)\n",
    "      print(\"-----\")\n",
    "      x = x_new\n",
    "      i = i+1\n",
    "    raise ValueError(\"No convergió\")"
   ]
  },
  {
   "cell_type": "markdown",
   "id": "bc039249",
   "metadata": {},
   "source": [
    "\n",
    "Ahora definimos la funcion y su jacobiano\n",
    "$$\n",
    "F(x, y, z) =\n",
    "\\begin{cases}\n",
    "3x - \\cos(yz) - \\frac{1}{2} = 0, \\\\\n",
    "x^{2} - 81(y + 0.1)^{2} + \\sin(z) + 1.06 = 0, \\\\\n",
    "e^{-xy} + 20z + \\frac{10\\pi - 3}{3} = 0.\n",
    "\\end{cases}\n",
    "$$\n"
   ]
  },
  {
   "cell_type": "code",
   "execution_count": 48,
   "id": "7d7cd86d",
   "metadata": {},
   "outputs": [
    {
     "name": "stdout",
     "output_type": "stream",
     "text": [
      "Iteracion:  0\n",
      "Error:  [-0.08031279 -0.53917754 -1.50338764]\n",
      "-----\n",
      "Iteracion:  1\n",
      "Error:  [-0.41868673 -0.27338898 -0.0174816 ]\n",
      "-----\n",
      "Iteracion:  2\n",
      "Error:  [-0.00045755 -0.12628002 -0.00113173]\n",
      "-----\n",
      "Iteracion:  3\n",
      "Error:  [-0.0004385  -0.04953635 -0.00129418]\n",
      "-----\n",
      "Iteracion:  4\n",
      "Error:  [-9.89258977e-05 -1.10114900e-02 -2.87790203e-04]\n",
      "-----\n",
      "Iteracion:  5\n",
      "Error:  [-5.49371608e-06 -6.03789356e-04 -1.57915032e-05]\n",
      "-----\n",
      "Iteracion:  6\n",
      "Error:  [-1.66554476e-08 -1.82635074e-06 -4.77710274e-08]\n",
      "-----\n",
      "Convergió en 8 iteraciones\n",
      "\n",
      "Aproximaciones\n",
      "Iteracion 1 - [1. 1. 1.]\n",
      "Iteracion 2 - [ 0.91968721  0.46082246 -0.50338764]\n",
      "Iteracion 3 - [ 0.50100049  0.18743348 -0.52086923]\n",
      "Iteracion 4 - [ 0.50054294  0.06115345 -0.52200096]\n",
      "Iteracion 5 - [ 0.50010444  0.01161711 -0.52329515]\n",
      "Iteracion 6 - [ 0.50000551  0.00060562 -0.52358294]\n",
      "Iteracion 7 - [ 5.00000017e-01  1.82636745e-06 -5.23598728e-01]\n",
      "Iteracion 8 - [ 5.00000000e-01  1.67105150e-11 -5.23598776e-01]\n",
      "\n",
      "Solución: [ 5.00000000e-01 -1.65752882e-17 -5.23598776e-01]\n"
     ]
    }
   ],
   "source": [
    "def F(vars):\n",
    "    x, y, z = vars\n",
    "    return anp.array([\n",
    "        3*x - anp.cos(y*z) - 0.5,\n",
    "        x**2 - 81*(y + 0.1)**2 + anp.sin(z) + 1.06,\n",
    "        anp.exp(-x*y) + 20*z + (10*anp.pi - 3)/3\n",
    "    ])\n",
    "\n",
    "\n",
    "J = jacobian(F)\n",
    "\n",
    "x0 = [1.0, 1.0, 1.0]\n",
    "\n",
    "\n",
    "nr = NewtonRaphson(F, J, x0, 1e-6, 20)\n",
    "sol, aprox = nr.evaluate()\n",
    "print(\"\\nAproximaciones\")\n",
    "\n",
    "i = 0\n",
    "for ap  in aprox:\n",
    "    i += 1\n",
    "    print(f\"Iteracion {i} - {ap}\")\n",
    "print(\"\\nSolución:\", sol)\n",
    "\n"
   ]
  },
  {
   "cell_type": "markdown",
   "id": "b6eb0a7a",
   "metadata": {},
   "source": [
    "La solucion es \n",
    "$$\n",
    "x \\approx 0.5, \\quad y \\approx -1.66 \\times 10^{-17}, \\quad z \\approx -0.523598776\n",
    "$$\n",
    "\n",
    "En fracciones conocidas:\n",
    "\n",
    "$$\n",
    "x = \\frac{1}{2}, \\quad y \\approx 0, \\quad z \\approx -\\frac{\\pi}{6}\n",
    "$$\n"
   ]
  }
 ],
 "metadata": {
  "kernelspec": {
   "display_name": "Python 3",
   "language": "python",
   "name": "python3"
  },
  "language_info": {
   "codemirror_mode": {
    "name": "ipython",
    "version": 3
   },
   "file_extension": ".py",
   "mimetype": "text/x-python",
   "name": "python",
   "nbconvert_exporter": "python",
   "pygments_lexer": "ipython3",
   "version": "3.12.3"
  }
 },
 "nbformat": 4,
 "nbformat_minor": 5
}
