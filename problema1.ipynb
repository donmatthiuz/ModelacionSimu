{
 "cells": [
  {
   "cell_type": "markdown",
   "id": "785d4c75",
   "metadata": {},
   "source": [
    "# Laboratorio 2"
   ]
  },
  {
   "cell_type": "markdown",
   "id": "b4a08860",
   "metadata": {},
   "source": [
    "## Ejercicio 1"
   ]
  },
  {
   "cell_type": "markdown",
   "id": "1801b7dd",
   "metadata": {},
   "source": [
    "Tres refinerias con capacidades diarias de 6, 5 y 8 millones de galones, respectivamente, abastecen a tres areas de distribucion con demandas diarias de 4, 8 y 7 millones de galones, respectivamente. La gasolina se transporta a las tres areas de distribucion a traves de una red de oleoductos. El costo de transporte es de $0.10 por 1000 galones por kilometro de oleoducto. En la tabla 1 se presenta la distancia en kilometros entre las refinerias y las areas de distribucion. La refineria 1 no esta conectada al area de distribucion 3."
   ]
  },
  {
   "attachments": {
    "image.png": {
     "image/png": "[encoded data removed]"
    }
   },
   "cell_type": "markdown",
   "id": "85e68829",
   "metadata": {},
   "source": [
    "![image.png](attachment:image.png)"
   ]
  },
  {
   "cell_type": "markdown",
   "id": "ae8cd543",
   "metadata": {},
   "source": [
    "Esto quiere decir que nuestros productores producen un array de produccion llamado S, y nuestra demanda tiene un array de demanda de D .\n",
    "\n",
    "Pero aqui hay una cosa, es que la tabla es por distancias no por galones entonces nuestra formula de final de sumatorias tiene que contemplar eso.\n"
   ]
  },
  {
   "cell_type": "markdown",
   "id": "86965a28",
   "metadata": {},
   "source": [
    "Una cosa es como que la 1 no esta conectada a la 3 ponemos como costo enorme asi nunca tomara esa ruta. \n",
    "\n",
    "Luego para determinar el costo necesitamos hacer la conversion\n",
    "\n",
    "$$costogalonkm =  \\frac{0.10}{1000}$$\n",
    "\n",
    "Entonces el costo seria\n",
    "\n",
    "$$costo_{ij} =  distancia_{ij} * costogalonkm$$"
   ]
  },
  {
   "cell_type": "code",
   "execution_count": 5,
   "id": "a35c2b11",
   "metadata": {},
   "outputs": [
    {
     "data": {
      "text/latex": [
       "$ 0.012 x_{1,1} + 0.018000000000000002 x_{1,2} + 1.0000000000000001 \\times 10^{23} x_{1,3} + 0.030000000000000002 x_{2,1} + 0.01 x_{2,2} + 0.008 x_{2,3} + 0.02 x_{3,1} + 0.025 x_{3,2} + 0.012 x_{3,3} $"
      ],
      "text/plain": [
       "0.012 x[1,1] + 0.018000000000000002 x[1,2] + 1.0000000000000001e23 x[1,3] + 0.030000000000000002 x[2,1] + 0.01 x[2,2] + 0.008 x[2,3] + 0.02 x[3,1] + 0.025 x[3,2] + 0.012 x[3,3]"
      ]
     },
     "metadata": {},
     "output_type": "display_data"
    }
   ],
   "source": [
    "using JuMP\n",
    "using Ipopt \n",
    "using HiGHS \n",
    "using Optimization\n",
    "\n",
    "model = Model()\n",
    "\n",
    "supply = [5000000, 6000000, 8000000]\n",
    "demand = [4000000,8000000,7000000]\n",
    "\n",
    "distancias = [ 120   180  1e27; \n",
    "               300 100  80; \n",
    "          200  250  120; ]\n",
    "\n",
    "costos = distancias .* 0.0001\n",
    "\n",
    "\n",
    "# variables \n",
    "@variable(model, x[1:3, 1:3] >= 0)\n",
    "\n",
    "\n",
    "# constraints \n",
    "@constraint(model, sum(x[1,j] for j in 1:3) == supply[1])\n",
    "@constraint(model, sum(x[2,j] for j in 1:3) == supply[2])\n",
    "@constraint(model, sum(x[3,j] for j in 1:3) == supply[3])\n",
    "\n",
    "@constraint(model, sum(x[i,1] for i in 1:3) == demand[1])\n",
    "@constraint(model, sum(x[i,2] for i in 1:3) == demand[2])\n",
    "@constraint(model, sum(x[i,3] for i in 1:3) == demand[3])\n",
    "\n",
    "\n",
    "# @objective(model, Min, sum((distancias[i,j]*0.10) * (x[i,j]/1000) for i in 1:3, j in 1:3))\n",
    "\n",
    "@objective(model, Min, sum(costos[i,j] * x[i,j] for i in 1:3, j in 1:3))"
   ]
  },
  {
   "cell_type": "code",
   "execution_count": 6,
   "id": "826849f0",
   "metadata": {},
   "outputs": [],
   "source": [
    "set_optimizer(model, HiGHS.Optimizer)"
   ]
  },
  {
   "cell_type": "code",
   "execution_count": 7,
   "id": "28f9ba89",
   "metadata": {},
   "outputs": [
    {
     "data": {
      "text/plain": [
       "A JuMP Model\n",
       "├ solver: HiGHS\n",
       "├ objective_sense: MIN_SENSE\n",
       "│ └ objective_function_type: AffExpr\n",
       "├ num_variables: 9\n",
       "├ num_constraints: 15\n",
       "│ ├ AffExpr in MOI.EqualTo{Float64}: 6\n",
       "│ └ VariableRef in MOI.GreaterThan{Float64}: 9\n",
       "└ Names registered in the model\n",
       "  └ :x"
      ]
     },
     "metadata": {},
     "output_type": "display_data"
    }
   ],
   "source": [
    "model"
   ]
  },
  {
   "cell_type": "code",
   "execution_count": 8,
   "id": "1cc753c8",
   "metadata": {},
   "outputs": [
    {
     "name": "stdout",
     "output_type": "stream",
     "text": [
      "Running HiGHS 1.11.0 (git hash: 364c83a51e): Copyright (c) 2025 HiGHS under MIT licence terms\n",
      "1 |cost| values greater than or equal to        1e+20 are treated as Infinity\n",
      "LP   has 6 rows; 9 cols; 18 nonzeros\n",
      "Coefficient ranges:\n",
      "  Matrix [1e+00, 1e+00]\n",
      "  Cost   [8e-03, 3e-02]\n",
      "  Bound  [0e+00, 0e+00]\n",
      "  RHS    [4e+06, 8e+06]\n",
      "Presolving model\n",
      "6 rows, 8 cols, 16 nonzeros  0s\n",
      "Dependent equations search running on 4 equations with time limit of 1000.00s\n",
      "Dependent equations search removed 1 rows and 3 nonzeros in 0.00s (limit = 1000.00s)\n",
      "3 rows, 6 cols, 9 nonzeros  0s\n",
      "3 rows, 6 cols, 9 nonzeros  0s\n",
      "Presolve : Reductions: rows 3(-3); columns 6(-3); elements 9(-9)\n",
      "Solving the presolved LP\n",
      "Using EKK dual simplex solver - serial\n",
      "  Iteration        Objective     Infeasibilities num(sum)\n",
      "          0     0.0000000000e+00 Ph1: 0(0) 0s\n",
      "          3     2.3500000000e+05 Pr: 0(0) 0s\n",
      "Solving the original LP from the solution after postsolve\n",
      "Model status        : Optimal\n",
      "Simplex   iterations: 3\n",
      "Objective value     :  2.3500000000e+05\n",
      "P-D objective error :  0.0000000000e+00\n",
      "HiGHS run time      :          0.01\n"
     ]
    }
   ],
   "source": [
    "optimize!(model)"
   ]
  },
  {
   "cell_type": "code",
   "execution_count": null,
   "id": "82ff21ed",
   "metadata": {},
   "outputs": [
    {
     "name": "stdout",
     "output_type": "stream",
     "text": [
      "x = [4.0e6 1.0e6 0.0; 0.0 6.0e6 0.0; 0.0 1.0e6 7.0e6]\n",
      "objective value = 235000.0"
     ]
    }
   ],
   "source": [
    "# print solution\n",
    "print(\"x = \", value.(x), \"\\n\")\n",
    "\n",
    "\n",
    "print(\"objective value = \", objective_value(model))"
   ]
  },
  {
   "cell_type": "markdown",
   "id": "750daf06",
   "metadata": {},
   "source": [
    "\n",
    "La distribucion seria la siguiente\n",
    "\n",
    "| Refinería → Distribución ↓ | Distribución 1 | Distribución 2 | Distribución 3 |\n",
    "|----------------------------|----------------|----------------|----------------|\n",
    "| Refinería 1               | 4,000,000      | 1,000,000      | 0              |\n",
    "| Refinería 2               | 0              | 6,000,000      | 0              |\n",
    "| Refinería 3               | 0              | 1,000,000      | 7,000,000      |\n"
   ]
  }
 ],
 "metadata": {
  "kernelspec": {
   "display_name": "Julia 1.11.6",
   "language": "julia",
   "name": "julia-1.11"
  },
  "language_info": {
   "file_extension": ".jl",
   "mimetype": "application/julia",
   "name": "julia",
   "version": "1.11.6"
  }
 },
 "nbformat": 4,
 "nbformat_minor": 5
}
