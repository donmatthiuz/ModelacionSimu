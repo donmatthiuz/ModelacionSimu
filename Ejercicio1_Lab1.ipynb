{
 "cells": [
  {
   "cell_type": "markdown",
   "id": "0c879aff-bb78-45b5-98ca-81d69061ff89",
   "metadata": {},
   "source": [
    "# <font size=4> *Modelación y Simulación*, 2025 </font>\n",
    "## <font size=3 color='gray'> Pedro Pablo Guzmán, Mathew Cordero, Gustavo cruz </font>"
   ]
  },
  {
   "cell_type": "markdown",
   "id": "4c94abc2-00ba-4c08-8477-601b6398c7d0",
   "metadata": {},
   "source": [
    "# Programación Lineal:  Ejemplo 2"
   ]
  },
  {
   "cell_type": "code",
   "execution_count": 1,
   "id": "dc44205a-f698-4691-b0e3-925a9bf1d107",
   "metadata": {},
   "outputs": [],
   "source": [
    "using JuMP\n",
    "using HiGHS\n",
    "using Ipopt\n",
    "using Optimization\n",
    "using Optim"
   ]
  },
  {
   "cell_type": "code",
   "execution_count": 2,
   "id": "99f298d9-16fe-4962-abcc-66cd63ba8470",
   "metadata": {},
   "outputs": [
    {
     "data": {
      "text/plain": [
       "A JuMP Model\n",
       "├ solver: none\n",
       "├ objective_sense: FEASIBILITY_SENSE\n",
       "├ num_variables: 0\n",
       "├ num_constraints: 0\n",
       "└ Names registered in the model: none"
      ]
     },
     "metadata": {},
     "output_type": "display_data"
    }
   ],
   "source": [
    "model = Model()"
   ]
  },
  {
   "cell_type": "code",
   "execution_count": 3,
   "id": "8a7746a0-af9e-4656-bb6c-9c675d013c71",
   "metadata": {},
   "outputs": [
    {
     "data": {
      "text/latex": [
       "$ x4 $"
      ],
      "text/plain": [
       "x4"
      ]
     },
     "metadata": {},
     "output_type": "display_data"
    }
   ],
   "source": [
    "@variable(model, x1 >= 0)\n",
    "@variable(model, x2 >= 0)\n",
    "@variable(model, x3 >= 0)\n",
    "@variable(model, x4 >= 0)"
   ]
  },
  {
   "cell_type": "code",
   "execution_count": 4,
   "id": "df9437ce-7264-42e9-bc52-db110bb2b930",
   "metadata": {},
   "outputs": [
    {
     "data": {
      "text/latex": [
       "$$ -x1 + x3 + 2 x4 \\leq 0 $$"
      ],
      "text/plain": [
       "-x1 + x3 + 2 x4 ≤ 0"
      ]
     },
     "metadata": {},
     "output_type": "display_data"
    }
   ],
   "source": [
    "@constraint(model, x1 + 2x2 - 3x3 + 5x4 <=4)\n",
    "@constraint(model,  5x1 - 2x2 + 6x4 <= 8)\n",
    "@constraint(model,  2x1 + 3x2 - 2x3 + 3x4 <= 3)\n",
    "@constraint(model,  -x1 + x3 + 2x4 <= 0)\n"
   ]
  },
  {
   "cell_type": "code",
   "execution_count": 5,
   "id": "171d5fd2-e9c3-4637-a311-d6e7c4660560",
   "metadata": {},
   "outputs": [
    {
     "data": {
      "text/latex": [
       "$ x1 + x2 + 3 x3 + 3 x4 $"
      ],
      "text/plain": [
       "x1 + x2 + 3 x3 + 3 x4"
      ]
     },
     "metadata": {},
     "output_type": "display_data"
    }
   ],
   "source": [
    "@objective(model, Max, x1 + x2 + 3x3 + 3x4)"
   ]
  },
  {
   "cell_type": "code",
   "execution_count": 6,
   "id": "248ef2d2-6a13-4197-8da0-029113de52eb",
   "metadata": {},
   "outputs": [],
   "source": [
    "set_optimizer(model, HiGHS.Optimizer)"
   ]
  },
  {
   "cell_type": "code",
   "execution_count": 7,
   "id": "cd6aa6b2-00b8-4e8e-a562-e63ec99b4885",
   "metadata": {},
   "outputs": [
    {
     "data": {
      "text/plain": [
       "A JuMP Model\n",
       "├ solver: HiGHS\n",
       "├ objective_sense: MAX_SENSE\n",
       "│ └ objective_function_type: AffExpr\n",
       "├ num_variables: 4\n",
       "├ num_constraints: 8\n",
       "│ ├ AffExpr in MOI.LessThan{Float64}: 4\n",
       "│ └ VariableRef in MOI.GreaterThan{Float64}: 4\n",
       "└ Names registered in the model\n",
       "  └ :x1, :x2, :x3, :x4"
      ]
     },
     "metadata": {},
     "output_type": "display_data"
    }
   ],
   "source": [
    "model"
   ]
  },
  {
   "cell_type": "code",
   "execution_count": 8,
   "id": "fc5c2632-6eb6-4281-a49f-1b6e086d6d9c",
   "metadata": {},
   "outputs": [
    {
     "name": "stdout",
     "output_type": "stream",
     "text": [
      "Running HiGHS 1.11.0 (git hash: 364c83a51e): Copyright (c) 2025 HiGHS under MIT licence terms\n",
      "LP   has 4 rows; 4 cols; 14 nonzeros\n",
      "Coefficient ranges:\n",
      "  Matrix [1e+00, 6e+00]\n",
      "  Cost   [1e+00, 3e+00]\n",
      "  Bound  [0e+00, 0e+00]\n",
      "  RHS    [3e+00, 8e+00]\n",
      "Presolving model\n",
      "4 rows, 3 cols, 10 nonzeros  0s\n",
      "0 rows, 0 cols, 0 nonzeros  0s\n",
      "Presolve : Reductions: rows 0(-4); columns 0(-4); elements 0(-14) - Reduced to empty\n",
      "Solving the original LP from the solution after postsolve\n",
      "Model status        : Optimal\n",
      "Objective value     :  9.0000000000e+00\n",
      "P-D objective error :  0.0000000000e+00\n",
      "HiGHS run time      :          0.00\n"
     ]
    }
   ],
   "source": [
    "optimize!(model)"
   ]
  },
  {
   "cell_type": "code",
   "execution_count": 9,
   "id": "79bad246-e004-4fe0-aaf5-94afd336027f",
   "metadata": {},
   "outputs": [
    {
     "name": "stdout",
     "output_type": "stream",
     "text": [
      "x1 = 2.0\n",
      "x2 = 1.0\n",
      "\n",
      "x3 = 2.0\n",
      "\n",
      "x4 = 0.0\n",
      "\n",
      "z = 9.0"
     ]
    }
   ],
   "source": [
    "print(\"x1 = \", value.(x1), \"\\n\")\n",
    "print(\"x2 = \", value.(x2), \"\\n\\n\")\n",
    "print(\"x3 = \", value.(x3), \"\\n\\n\")\n",
    "print(\"x4 = \", value.(x4), \"\\n\\n\")\n",
    "\n",
    "print(\"z = \", objective_value(model))"
   ]
  },
  {
   "cell_type": "code",
   "execution_count": 10,
   "id": "86a6b2f5-d380-423f-a0bb-652d992e57da",
   "metadata": {},
   "outputs": [],
   "source": []
  }
 ],
 "metadata": {
  "kernelspec": {
   "display_name": "Julia 1.11.6",
   "language": "julia",
   "name": "julia-1.11"
  },
  "language_info": {
   "file_extension": ".jl",
   "mimetype": "application/julia",
   "name": "julia",
   "version": "1.11.6"
  }
 },
 "nbformat": 4,
 "nbformat_minor": 5
}
